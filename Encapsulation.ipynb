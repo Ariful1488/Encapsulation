{
 "cells": [
  {
   "cell_type": "markdown",
   "metadata": {},
   "source": [
    "# What is Encapsulatuion?\n",
    "'''\n",
    "By default python provide data access globally. But by using encapsulation we can prevent out data secured from other user.\n",
    "We can make our fuction public but we can restrict our variables.By using this function we can get access our private variables. \n",
    "There are two type sof encapsulation:\n",
    "1.proteced (we will use single underscores)\n",
    "2.Private(we will use double under scores)\n",
    "            '''"
   ]
  },
  {
   "cell_type": "code",
   "execution_count": 6,
   "metadata": {},
   "outputs": [
    {
     "name": "stdout",
     "output_type": "stream",
     "text": [
      "Protected variable a:  19\n",
      "Private variable b:  20\n"
     ]
    }
   ],
   "source": [
    "#Easy example\n",
    "class A:\n",
    "    _a=19 #protected variable by single underscore\n",
    "    __b=20 #Private variable by double underscores\n",
    "    def clf_func(self):\n",
    "        print('Protected variable a: ',self._a)\n",
    "        print('Private variable b: ', self.__b)\n",
    "obj=A()\n",
    "#We can get access our both protected and Private varables by using same class functions\n",
    "obj.clf_func() # By using Class object and same class fuction we can access both private and protected variables  "
   ]
  },
  {
   "cell_type": "code",
   "execution_count": 4,
   "metadata": {},
   "outputs": [
    {
     "name": "stdout",
     "output_type": "stream",
     "text": [
      "Protected variable a:  19\n",
      "Private variable b:  20\n",
      "Protected varable out side of class by using class name: 19\n"
     ]
    }
   ],
   "source": [
    "class A:\n",
    "    _a=19 #protected variable by single underscore\n",
    "    __b=20 #Private variable by double underscores\n",
    "    def clf_func(self):\n",
    "        print('Protected variable a: ',self._a)\n",
    "        print('Private variable b: ', self.__b)\n",
    "obj=A()\n",
    "#We can get access our both protected and Private varables by using same class functions\n",
    "obj.clf_func()\n",
    "#we can print protected varable out side of class by using class name\n",
    "print('Protected varable out side of class by using class name:',A._a)"
   ]
  },
  {
   "cell_type": "code",
   "execution_count": 5,
   "metadata": {},
   "outputs": [
    {
     "name": "stdout",
     "output_type": "stream",
     "text": [
      "Protected variable a:  19\n",
      "Private variable b:  20\n"
     ]
    },
    {
     "ename": "AttributeError",
     "evalue": "type object 'A' has no attribute '__b'",
     "output_type": "error",
     "traceback": [
      "\u001b[1;31m---------------------------------------------------------------------------\u001b[0m",
      "\u001b[1;31mAttributeError\u001b[0m                            Traceback (most recent call last)",
      "\u001b[1;32m<ipython-input-5-38cf21be9ec1>\u001b[0m in \u001b[0;36m<module>\u001b[1;34m\u001b[0m\n\u001b[0;32m      9\u001b[0m \u001b[0mobj\u001b[0m\u001b[1;33m.\u001b[0m\u001b[0mclf_func\u001b[0m\u001b[1;33m(\u001b[0m\u001b[1;33m)\u001b[0m\u001b[1;33m\u001b[0m\u001b[1;33m\u001b[0m\u001b[0m\n\u001b[0;32m     10\u001b[0m \u001b[1;31m#Can we print private variable out side of class by using class name?\u001b[0m\u001b[1;33m\u001b[0m\u001b[1;33m\u001b[0m\u001b[1;33m\u001b[0m\u001b[0m\n\u001b[1;32m---> 11\u001b[1;33m \u001b[0mprint\u001b[0m\u001b[1;33m(\u001b[0m\u001b[1;34m'private variable out side of class:'\u001b[0m\u001b[1;33m,\u001b[0m \u001b[0mA\u001b[0m\u001b[1;33m.\u001b[0m\u001b[0m__b\u001b[0m\u001b[1;33m)\u001b[0m\u001b[1;33m\u001b[0m\u001b[1;33m\u001b[0m\u001b[0m\n\u001b[0m",
      "\u001b[1;31mAttributeError\u001b[0m: type object 'A' has no attribute '__b'"
     ]
    }
   ],
   "source": [
    "class A:\n",
    "    _a=19 #protected variable by single underscore\n",
    "    __b=20 #Private variable by double underscores\n",
    "    def clf_func(self):\n",
    "        print('Protected variable a: ',self._a)\n",
    "        print('Private variable b: ', self.__b)\n",
    "obj=A()\n",
    "#We can get access our both protected and Private varables by using same class functions\n",
    "obj.clf_func()\n",
    "#Can we print private variable out side of class by using class name?\n",
    "#Answer is No\n",
    "print('private variable out side of class:', A.__b)"
   ]
  },
  {
   "cell_type": "code",
   "execution_count": null,
   "metadata": {},
   "outputs": [],
   "source": []
  }
 ],
 "metadata": {
  "kernelspec": {
   "display_name": "Python 3",
   "language": "python",
   "name": "python3"
  },
  "language_info": {
   "codemirror_mode": {
    "name": "ipython",
    "version": 3
   },
   "file_extension": ".py",
   "mimetype": "text/x-python",
   "name": "python",
   "nbconvert_exporter": "python",
   "pygments_lexer": "ipython3",
   "version": "3.8.5"
  }
 },
 "nbformat": 4,
 "nbformat_minor": 4
}
